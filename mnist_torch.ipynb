{
 "cells": [
  {
   "cell_type": "code",
   "execution_count": 267,
   "metadata": {},
   "outputs": [],
   "source": [
    "import torch, gzip\n",
    "from tqdm import trange\n",
    "import torch.nn as nn\n",
    "import torch.nn.functional as F\n",
    "import numpy as np\n",
    "import matplotlib.pyplot as plt"
   ]
  },
  {
   "cell_type": "code",
   "execution_count": 213,
   "metadata": {},
   "outputs": [],
   "source": [
    "image_size = 28\n",
    "\n",
    "train_images = torch.frombuffer(gzip.open('train-images-idx3-ubyte.gz','r').read(), requires_grad=False, dtype=torch.uint8).float()[16:].view(-1,784)\n",
    "train_labels = torch.frombuffer(gzip.open('train-labels-idx1-ubyte.gz','r').read(), requires_grad=False, dtype=torch.uint8).int()[8:]\n",
    "test_images = torch.frombuffer(gzip.open('t10k-images-idx3-ubyte.gz','r').read(), requires_grad=False, dtype=torch.uint8).float()[16:].view(-1,784)\n",
    "test_labels = torch.frombuffer(gzip.open('t10k-labels-idx1-ubyte.gz','r').read(), requires_grad=False, dtype=torch.uint8).int()[8:]\n",
    "\n",
    "n = int(0.9 * train_images.shape[0])\n",
    "X_tr, Y_tr = train_images[:n], train_labels[:n]\n",
    "X_val, Y_val = train_images[n:], train_labels[n:]\n",
    "X_test, Y_test = test_images, test_labels"
   ]
  },
  {
   "cell_type": "code",
   "execution_count": 273,
   "metadata": {},
   "outputs": [
    {
     "name": "stderr",
     "output_type": "stream",
     "text": [
      "loss   0.0268 acc   0.9922: 100%|██████████| 1000/1000 [00:05<00:00, 177.34it/s]\n"
     ]
    },
    {
     "name": "stdout",
     "output_type": "stream",
     "text": [
      "train   0.9930\n",
      "val   0.9757\n",
      "test   0.9752\n"
     ]
    },
    {
     "data": {
      "image/png": "[encoded data removed]",
      "text/plain": [
       "<Figure size 640x480 with 1 Axes>"
      ]
     },
     "metadata": {},
     "output_type": "display_data"
    }
   ],
   "source": [
    "class BroNet(nn.Module):\n",
    "    def __init__(self):\n",
    "        super().__init__()\n",
    "        self.block = nn.Sequential(\n",
    "            nn.Linear(784, 64),\n",
    "            nn.BatchNorm1d(64),\n",
    "            nn.ReLU(),\n",
    "            nn.Linear(64, 64),\n",
    "            nn.BatchNorm1d(64),\n",
    "            nn.ReLU(),\n",
    "            nn.Linear(64, 10),\n",
    "            nn.ReLU()\n",
    "        )\n",
    "    def forward(self, x):\n",
    "        return self.block(x)\n",
    "\n",
    "model = BroNet()\n",
    "batch_size = 512\n",
    "total_steps = 1000\n",
    "optim = torch.optim.AdamW(model.parameters())\n",
    "loss_i, acc_i = [], []\n",
    "\n",
    "def train():\n",
    "    for i in (t:=trange(total_steps)):\n",
    "        samp = torch.randint(0, X_tr.shape[0], (batch_size,))\n",
    "        logits = model(X_tr[samp])\n",
    "        targets = F.one_hot(Y_tr[samp].long(), num_classes = 10).float()\n",
    "        loss = F.cross_entropy(logits, targets)\n",
    "        optim.zero_grad()\n",
    "        loss.backward()\n",
    "        optim.step()\n",
    "        acc = sum(torch.argmax(logits, dim=1) == Y_tr[samp]) / batch_size\n",
    "        t.set_description(f'loss {loss:8.4f} acc {acc:8.4f}')\n",
    "        loss_i.append(loss.item())\n",
    "        acc_i.append(acc.item())\n",
    "\n",
    "def eval(mode):\n",
    "    x, y = {\n",
    "            'train': (X_tr, Y_tr),\n",
    "            'val': (X_val, Y_val),\n",
    "            'test': (X_test, Y_test)\n",
    "    }[mode]\n",
    "    logits = model(x)\n",
    "    acc = sum(torch.argmax(logits, dim=1) == y) / x.shape[0]\n",
    "    print(f'{mode} {acc:8.4f}')\n",
    "\n",
    "train()\n",
    "eval('train')\n",
    "eval('val')\n",
    "eval('test')\n",
    "plt.plot(loss_i)\n",
    "plt.plot(acc_i)\n",
    "plt.show()\n"
   ]
  },
  {
   "cell_type": "code",
   "execution_count": 163,
   "metadata": {},
   "outputs": [
    {
     "name": "stderr",
     "output_type": "stream",
     "text": [
      "  0%|          | 0/10000 [00:00<?, ?it/s]"
     ]
    },
    {
     "name": "stdout",
     "output_type": "stream",
     "text": [
      "torch.Size([32, 10])\n"
     ]
    },
    {
     "name": "stderr",
     "output_type": "stream",
     "text": [
      "\n"
     ]
    },
    {
     "ename": "TypeError",
     "evalue": "unsupported format string passed to Tensor.__format__",
     "output_type": "error",
     "traceback": [
      "\u001b[0;31m---------------------------------------------------------------------------\u001b[0m",
      "\u001b[0;31mTypeError\u001b[0m                                 Traceback (most recent call last)",
      "Cell \u001b[0;32mIn[163], line 1\u001b[0m\n\u001b[0;32m----> 1\u001b[0m \u001b[43mtrain\u001b[49m\u001b[43m(\u001b[49m\u001b[43m)\u001b[49m\n\u001b[1;32m      2\u001b[0m \u001b[38;5;28meval\u001b[39m(\u001b[38;5;124m'\u001b[39m\u001b[38;5;124mval\u001b[39m\u001b[38;5;124m'\u001b[39m)\n",
      "Cell \u001b[0;32mIn[162], line 27\u001b[0m, in \u001b[0;36mtrain\u001b[0;34m()\u001b[0m\n\u001b[1;32m     25\u001b[0m \u001b[38;5;28mprint\u001b[39m((logits \u001b[38;5;241m==\u001b[39m targets)\u001b[38;5;241m.\u001b[39mshape)\n\u001b[1;32m     26\u001b[0m acc \u001b[38;5;241m=\u001b[39m (\u001b[38;5;28msum\u001b[39m(logits \u001b[38;5;241m==\u001b[39m targets) \u001b[38;5;241m/\u001b[39m logits\u001b[38;5;241m.\u001b[39mshape[\u001b[38;5;241m0\u001b[39m])\n\u001b[0;32m---> 27\u001b[0m t\u001b[38;5;241m.\u001b[39mset_description(\u001b[38;5;124mf\u001b[39m\u001b[38;5;124m'\u001b[39m\u001b[38;5;124mloss \u001b[39m\u001b[38;5;132;01m{\u001b[39;00mloss\u001b[38;5;132;01m:\u001b[39;00m\u001b[38;5;124m8.2f\u001b[39m\u001b[38;5;132;01m}\u001b[39;00m\u001b[38;5;124m accuracy \u001b[39m\u001b[38;5;132;01m{\u001b[39;00macc\u001b[38;5;132;01m:\u001b[39;00m\u001b[38;5;124m8.2f\u001b[39m\u001b[38;5;132;01m}\u001b[39;00m\u001b[38;5;124m'\u001b[39m)\n",
      "File \u001b[0;32m~/.pyenv/versions/jupyter/lib/python3.11/site-packages/torch/_tensor.py:934\u001b[0m, in \u001b[0;36mTensor.__format__\u001b[0;34m(self, format_spec)\u001b[0m\n\u001b[1;32m    932\u001b[0m \u001b[38;5;28;01mif\u001b[39;00m \u001b[38;5;28mself\u001b[39m\u001b[38;5;241m.\u001b[39mdim() \u001b[38;5;241m==\u001b[39m \u001b[38;5;241m0\u001b[39m \u001b[38;5;129;01mand\u001b[39;00m \u001b[38;5;129;01mnot\u001b[39;00m \u001b[38;5;28mself\u001b[39m\u001b[38;5;241m.\u001b[39mis_meta \u001b[38;5;129;01mand\u001b[39;00m \u001b[38;5;28mtype\u001b[39m(\u001b[38;5;28mself\u001b[39m) \u001b[38;5;129;01mis\u001b[39;00m Tensor:\n\u001b[1;32m    933\u001b[0m     \u001b[38;5;28;01mreturn\u001b[39;00m \u001b[38;5;28mself\u001b[39m\u001b[38;5;241m.\u001b[39mitem()\u001b[38;5;241m.\u001b[39m\u001b[38;5;21m__format__\u001b[39m(format_spec)\n\u001b[0;32m--> 934\u001b[0m \u001b[38;5;28;01mreturn\u001b[39;00m \u001b[38;5;28;43mobject\u001b[39;49m\u001b[38;5;241;43m.\u001b[39;49m\u001b[38;5;21;43m__format__\u001b[39;49m\u001b[43m(\u001b[49m\u001b[38;5;28;43mself\u001b[39;49m\u001b[43m,\u001b[49m\u001b[43m \u001b[49m\u001b[43mformat_spec\u001b[49m\u001b[43m)\u001b[49m\n",
      "\u001b[0;31mTypeError\u001b[0m: unsupported format string passed to Tensor.__format__"
     ]
    }
   ],
   "source": []
  },
  {
   "cell_type": "code",
   "execution_count": null,
   "metadata": {},
   "outputs": [],
   "source": []
  }
 ],
 "metadata": {
  "kernelspec": {
   "display_name": "jupyter_python@3.11",
   "language": "python",
   "name": "jupyter"
  },
  "language_info": {
   "codemirror_mode": {
    "name": "ipython",
    "version": 3
   },
   "file_extension": ".py",
   "mimetype": "text/x-python",
   "name": "python",
   "nbconvert_exporter": "python",
   "pygments_lexer": "ipython3",
   "version": "3.11.6"
  }
 },
 "nbformat": 4,
 "nbformat_minor": 2
}
